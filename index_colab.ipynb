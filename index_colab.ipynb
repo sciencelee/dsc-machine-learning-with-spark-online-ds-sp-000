{
  "nbformat": 4,
  "nbformat_minor": 0,
  "metadata": {
    "colab": {
      "name": "index.ipynb",
      "provenance": [],
      "collapsed_sections": [],
      "toc_visible": true
    },
    "kernelspec": {
      "display_name": "Python 3",
      "language": "python",
      "name": "python3"
    },
    "language_info": {
      "codemirror_mode": {
        "name": "ipython",
        "version": 3
      },
      "file_extension": ".py",
      "mimetype": "text/x-python",
      "name": "python",
      "nbconvert_exporter": "python",
      "pygments_lexer": "ipython3",
      "version": "3.7.3"
    }
  },
  "cells": [
    {
      "cell_type": "markdown",
      "metadata": {
        "id": "sQQTb98ZA82w"
      },
      "source": [
        "# Machine Learning with Spark\n",
        "\n",
        "## Introduction\n",
        "\n",
        "You've now explored how to perform operations on Spark RDDs for simple MapReduce tasks. Luckily, there are far more advanced use cases for Spark, and many of them are found in the `ml` library, which we are going to explore in this lesson.\n",
        "\n",
        "\n",
        "## Objectives\n",
        "\n",
        "You will be able to: \n",
        "\n",
        "- Load and manipulate data using Spark DataFrames  \n",
        "- Define estimators and transformers in Spark ML \n",
        "- Create a Spark ML pipeline that transforms data and runs over a grid of hyperparameters \n",
        "\n",
        "\n",
        "\n",
        "## A Tale of Two Libraries\n",
        "\n",
        "If you look at the PySpark documentation, you'll notice that there are two different libraries for machine learning, [mllib](https://spark.apache.org/docs/latest/api/python/pyspark.mllib.html) and [ml](https://spark.apache.org/docs/latest/api/python/pyspark.ml.html). These libraries are extremely similar to one another, the only difference being that the `mllib` library is built upon the RDDs you just practiced using; whereas, the `ml` library is built on higher level Spark DataFrames, which has methods and attributes similar to pandas. Spark has stated that in the future, it is going to devote more effort to the `ml` library and that `mllib` will become deprecated. It's important to note that these libraries are much younger than pandas and scikit-learn and there are not as many features present in either.\n",
        "\n",
        "## Spark DataFrames\n",
        "\n",
        "In the previous lessons, you were introduced to SparkContext as the primary way to connect with a Spark Application. Here, we will be using SparkSession, which is from the [sql](https://spark.apache.org/docs/latest/api/python/pyspark.sql.html) component of PySpark. The SparkSession acts the same way as SparkContext; it is a bridge between Python and the Spark Application. It's just built on top of the Spark SQL API, a higher-level API than RDDs. In fact, a SparkContext object is spun up around which the SparkSession object is wrapped. Let's go through the process of manipulating some data here. For this example, we're going to be using the [Forest Fire dataset](https://archive.ics.uci.edu/ml/datasets/Forest+Fires) from UCI, which contains data about the area burned by wildfires in the Northeast region of Portugal in relation to numerous other factors.\n",
        "\n",
        "To begin with, let's create a SparkSession so that we can spin up our spark application. "
      ]
    },
    {
      "cell_type": "code",
      "metadata": {
        "id": "9JwAglrcBK9h",
        "outputId": "39f3c482-90f0-4b9a-ae1a-3e223975bdfd",
        "colab": {
          "base_uri": "https://localhost:8080/",
          "height": 272
        }
      },
      "source": [
        "# STart me up!\n",
        "!apt update\n",
        "\n",
        "!apt-get install openjdk-8-jdk-headless -qq > /dev/null\n",
        "!wget -q https://downloads.apache.org/spark/spark-2.4.7/spark-2.4.7-bin-hadoop2.7.tgz\n",
        "!tar xf spark-2.4.7-bin-hadoop2.7.tgz\n",
        "!pip install -q findspark\n",
        "\n",
        "import os\n",
        "os.environ[\"JAVA_HOME\"] = \"/usr/lib/jvm/java-1.8.0-openjdk-amd64\"\n",
        "os.environ[\"SPARK_HOME\"] = \"/content/spark-2.4.7-bin-hadoop2.7\"\n",
        "\n",
        "import findspark\n",
        "findspark.init()\n",
        "\n",
        "\n"
      ],
      "execution_count": null,
      "outputs": [
        {
          "output_type": "stream",
          "text": [
            "\u001b[33m\r0% [Working]\u001b[0m\r            \rIgn:1 https://developer.download.nvidia.com/compute/cuda/repos/ubuntu1804/x86_64  InRelease\n",
            "\u001b[33m\r0% [Connecting to archive.ubuntu.com (91.189.88.152)] [Waiting for headers] [Co\u001b[0m\r                                                                               \rIgn:2 https://developer.download.nvidia.com/compute/machine-learning/repos/ubuntu1804/x86_64  InRelease\n",
            "\u001b[33m\r0% [Connecting to archive.ubuntu.com (91.189.88.152)] [Waiting for headers] [Co\u001b[0m\r                                                                               \rHit:3 https://developer.download.nvidia.com/compute/cuda/repos/ubuntu1804/x86_64  Release\n",
            "\u001b[33m\r0% [Connecting to archive.ubuntu.com (91.189.88.152)] [Waiting for headers] [Co\u001b[0m\u001b[33m\r0% [Release.gpg gpgv 697 B] [Waiting for headers] [Waiting for headers] [Waitin\u001b[0m\r                                                                               \rHit:4 http://security.ubuntu.com/ubuntu bionic-security InRelease\n",
            "Hit:5 https://developer.download.nvidia.com/compute/machine-learning/repos/ubuntu1804/x86_64  Release\n",
            "Hit:6 https://cloud.r-project.org/bin/linux/ubuntu bionic-cran40/ InRelease\n",
            "Hit:7 http://archive.ubuntu.com/ubuntu bionic InRelease\n",
            "Hit:8 http://ppa.launchpad.net/c2d4u.team/c2d4u4.0+/ubuntu bionic InRelease\n",
            "Hit:10 http://archive.ubuntu.com/ubuntu bionic-updates InRelease\n",
            "Hit:11 http://ppa.launchpad.net/graphics-drivers/ppa/ubuntu bionic InRelease\n",
            "Hit:12 http://archive.ubuntu.com/ubuntu bionic-backports InRelease\n",
            "Reading package lists... Done\n",
            "Building dependency tree       \n",
            "Reading state information... Done\n",
            "22 packages can be upgraded. Run 'apt list --upgradable' to see them.\n"
          ],
          "name": "stdout"
        }
      ]
    },
    {
      "cell_type": "code",
      "metadata": {
        "id": "Rn7sEXiyFX7N"
      },
      "source": [
        "from pyspark import SparkContext\n",
        "from pyspark.sql import SparkSession\n",
        "\n",
        "\n",
        "sc = SparkContext('local[*]')\n",
        "spark = SparkSession(sc)"
      ],
      "execution_count": null,
      "outputs": []
    },
    {
      "cell_type": "code",
      "metadata": {
        "id": "7yIBMcxDA82x"
      },
      "source": [
        "# importing the necessary libraries\n",
        "\n",
        "# ABOVE INSTEAD^^^^^\n",
        "\n",
        "from pyspark import SparkContext\n",
        "from pyspark.sql import SparkSession\n",
        "# sc = SparkContext('local[*]')\n",
        "# spark = SparkSession(sc)"
      ],
      "execution_count": null,
      "outputs": []
    },
    {
      "cell_type": "markdown",
      "metadata": {
        "id": "7dy8QtsHA821"
      },
      "source": [
        "To create a SparkSession: "
      ]
    },
    {
      "cell_type": "code",
      "metadata": {
        "id": "RB9mC2fLA821"
      },
      "source": [
        "#spark = SparkSession.builder.master('local').getOrCreate()\n",
        "#sc = SparkContext('locl[*]')\n",
        "#spark = SparkSession(sc)"
      ],
      "execution_count": null,
      "outputs": []
    },
    {
      "cell_type": "markdown",
      "metadata": {
        "id": "1xHnjfVyA825"
      },
      "source": [
        "Now, we'll load the data into a PySpark DataFrame: "
      ]
    },
    {
      "cell_type": "code",
      "metadata": {
        "id": "j2AbMR8LA825",
        "outputId": "a3f7463b-0d6e-4eac-8615-ed9338fa0873",
        "colab": {
          "base_uri": "https://localhost:8080/",
          "height": 224
        }
      },
      "source": [
        "## reading in pyspark df\n",
        "!wget 'https://github.com/sciencelee/dsc-machine-learning-with-spark-online-ds-sp-000/blob/master/forestfires.csv'\n"
      ],
      "execution_count": null,
      "outputs": [
        {
          "output_type": "stream",
          "text": [
            "--2020-10-20 03:39:05--  https://github.com/sciencelee/dsc-machine-learning-with-spark-online-ds-sp-000/blob/master/forestfires.csv\n",
            "Resolving github.com (github.com)... 192.30.255.112\n",
            "Connecting to github.com (github.com)|192.30.255.112|:443... connected.\n",
            "HTTP request sent, awaiting response... 200 OK\n",
            "Length: unspecified [text/html]\n",
            "Saving to: ‘forestfires.csv.6’\n",
            "\n",
            "forestfires.csv.6       [ <=>                ] 333.90K  --.-KB/s    in 0.03s   \n",
            "\n",
            "2020-10-20 03:39:05 (11.1 MB/s) - ‘forestfires.csv.6’ saved [341909]\n",
            "\n"
          ],
          "name": "stdout"
        }
      ]
    },
    {
      "cell_type": "code",
      "metadata": {
        "id": "qPz5AkHSHNv5"
      },
      "source": [
        ""
      ],
      "execution_count": null,
      "outputs": []
    },
    {
      "cell_type": "code",
      "metadata": {
        "id": "0eTHe1KeEZuW",
        "outputId": "5a7ae884-575f-4670-db72-25474facb51e",
        "colab": {
          "resources": {
            "http://localhost:8080/nbextensions/google.colab/files.js": {
              "data": "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",
              "headers": [
                [
                  "content-type",
                  "application/javascript"
                ]
              ],
              "ok": true,
              "status": 200,
              "status_text": ""
            }
          },
          "base_uri": "https://localhost:8080/",
          "height": 89
        }
      },
      "source": [
        "from google.colab import files\n",
        "files.upload()\n"
      ],
      "execution_count": null,
      "outputs": [
        {
          "output_type": "display_data",
          "data": {
            "text/html": [
              "\n",
              "     <input type=\"file\" id=\"files-c8bc6d5a-2676-4314-a4ef-ff630ec491d0\" name=\"files[]\" multiple disabled\n",
              "        style=\"border:none\" />\n",
              "     <output id=\"result-c8bc6d5a-2676-4314-a4ef-ff630ec491d0\">\n",
              "      Upload widget is only available when the cell has been executed in the\n",
              "      current browser session. Please rerun this cell to enable.\n",
              "      </output>\n",
              "      <script src=\"/nbextensions/google.colab/files.js\"></script> "
            ],
            "text/plain": [
              "<IPython.core.display.HTML object>"
            ]
          },
          "metadata": {
            "tags": []
          }
        },
        {
          "output_type": "stream",
          "text": [
            "Saving forestfires.csv to forestfires (1).csv\n"
          ],
          "name": "stdout"
        },
        {
          "output_type": "execute_result",
          "data": {
            "text/plain": [
              "pyspark.sql.dataframe.DataFrame"
            ]
          },
          "metadata": {
            "tags": []
          },
          "execution_count": 31
        }
      ]
    },
    {
      "cell_type": "code",
      "metadata": {
        "id": "zCaHiGtDHPOo",
        "outputId": "1c01aa62-64dc-45e4-bf24-433537ab2933",
        "colab": {
          "base_uri": "https://localhost:8080/",
          "height": 34
        }
      },
      "source": [
        "\n",
        "spark_df = spark.read.csv('forestfires (1).csv', header=True, inferSchema=True)\n",
        "\n",
        "## observing the datatype of df\n",
        "type(spark_df)"
      ],
      "execution_count": null,
      "outputs": [
        {
          "output_type": "execute_result",
          "data": {
            "text/plain": [
              "pyspark.sql.dataframe.DataFrame"
            ]
          },
          "metadata": {
            "tags": []
          },
          "execution_count": 41
        }
      ]
    },
    {
      "cell_type": "markdown",
      "metadata": {
        "id": "mg9wUU_HA828"
      },
      "source": [
        "You'll notice that some of the methods are extremely similar or the same as those found within Pandas."
      ]
    },
    {
      "cell_type": "code",
      "metadata": {
        "id": "hB2_YwXZA829",
        "outputId": "1be8d697-d23f-4625-8c4b-608b3b41e97b",
        "colab": {
          "base_uri": "https://localhost:8080/",
          "height": 122
        }
      },
      "source": [
        "spark_df.head(5)"
      ],
      "execution_count": null,
      "outputs": [
        {
          "output_type": "execute_result",
          "data": {
            "text/plain": [
              "[Row(X=7, Y=5, month='mar', day='fri', FFMC=86.2, DMC=26.2, DC=94.3, ISI=5.1, temp=8.2, RH=51, wind=6.7, rain=0.0, area=0.0),\n",
              " Row(X=7, Y=4, month='oct', day='tue', FFMC=90.6, DMC=35.4, DC=669.1, ISI=6.7, temp=18.0, RH=33, wind=0.9, rain=0.0, area=0.0),\n",
              " Row(X=7, Y=4, month='oct', day='sat', FFMC=90.6, DMC=43.7, DC=686.9, ISI=6.7, temp=14.6, RH=33, wind=1.3, rain=0.0, area=0.0),\n",
              " Row(X=8, Y=6, month='mar', day='fri', FFMC=91.7, DMC=33.3, DC=77.5, ISI=9.0, temp=8.3, RH=97, wind=4.0, rain=0.2, area=0.0),\n",
              " Row(X=8, Y=6, month='mar', day='sun', FFMC=89.3, DMC=51.3, DC=102.2, ISI=9.6, temp=11.4, RH=99, wind=1.8, rain=0.0, area=0.0)]"
            ]
          },
          "metadata": {
            "tags": []
          },
          "execution_count": 42
        }
      ]
    },
    {
      "cell_type": "code",
      "metadata": {
        "id": "xBLlQW0dA82_",
        "outputId": "519a4182-6907-4004-d1be-a03fd4400bfd",
        "colab": {
          "base_uri": "https://localhost:8080/",
          "height": 238
        }
      },
      "source": [
        "spark_df.columns"
      ],
      "execution_count": null,
      "outputs": [
        {
          "output_type": "execute_result",
          "data": {
            "text/plain": [
              "['X',\n",
              " 'Y',\n",
              " 'month',\n",
              " 'day',\n",
              " 'FFMC',\n",
              " 'DMC',\n",
              " 'DC',\n",
              " 'ISI',\n",
              " 'temp',\n",
              " 'RH',\n",
              " 'wind',\n",
              " 'rain',\n",
              " 'area']"
            ]
          },
          "metadata": {
            "tags": []
          },
          "execution_count": 43
        }
      ]
    },
    {
      "cell_type": "markdown",
      "metadata": {
        "id": "dJN8hZ5VA83C"
      },
      "source": [
        "Selecting multiple columns is similar as well: "
      ]
    },
    {
      "cell_type": "code",
      "metadata": {
        "id": "IbresBkoA83C",
        "outputId": "d1e9bc96-bdac-4e52-c573-a5709522c587",
        "colab": {
          "base_uri": "https://localhost:8080/",
          "height": 34
        }
      },
      "source": [
        "spark_df[['month','day','rain']]"
      ],
      "execution_count": null,
      "outputs": [
        {
          "output_type": "execute_result",
          "data": {
            "text/plain": [
              "DataFrame[month: string, day: string, rain: double]"
            ]
          },
          "metadata": {
            "tags": []
          },
          "execution_count": 44
        }
      ]
    },
    {
      "cell_type": "markdown",
      "metadata": {
        "id": "Tr0EgDXcA83F"
      },
      "source": [
        "But selecting one column is different. If you want to maintain the methods of a spark DataFrame, you should use the `.select()` method. If you want to just select the column, you can use the same method you would use in pandas (this is primarily what you would use if you're attempting to create a boolean mask). "
      ]
    },
    {
      "cell_type": "code",
      "metadata": {
        "id": "iactGMiEA83I",
        "scrolled": true
      },
      "source": [
        "d = spark_df.select('rain')"
      ],
      "execution_count": null,
      "outputs": []
    },
    {
      "cell_type": "code",
      "metadata": {
        "id": "-rFfoluuA83L",
        "outputId": "a7df06db-8014-4b28-db43-b1645f8935f8",
        "colab": {
          "base_uri": "https://localhost:8080/",
          "height": 34
        }
      },
      "source": [
        "spark_df['rain']"
      ],
      "execution_count": null,
      "outputs": [
        {
          "output_type": "execute_result",
          "data": {
            "text/plain": [
              "Column<b'rain'>"
            ]
          },
          "metadata": {
            "tags": []
          },
          "execution_count": 46
        }
      ]
    },
    {
      "cell_type": "markdown",
      "metadata": {
        "id": "9saRfML_A83Q"
      },
      "source": [
        "Let's take a look at all of our data types in this dataframe"
      ]
    },
    {
      "cell_type": "code",
      "metadata": {
        "id": "n8aApwyaA83Q",
        "outputId": "93ba601f-40ea-4fb5-e9d0-6504b0f1765a",
        "colab": {
          "base_uri": "https://localhost:8080/",
          "height": 238
        }
      },
      "source": [
        "spark_df.dtypes"
      ],
      "execution_count": null,
      "outputs": [
        {
          "output_type": "execute_result",
          "data": {
            "text/plain": [
              "[('X', 'int'),\n",
              " ('Y', 'int'),\n",
              " ('month', 'string'),\n",
              " ('day', 'string'),\n",
              " ('FFMC', 'double'),\n",
              " ('DMC', 'double'),\n",
              " ('DC', 'double'),\n",
              " ('ISI', 'double'),\n",
              " ('temp', 'double'),\n",
              " ('RH', 'int'),\n",
              " ('wind', 'double'),\n",
              " ('rain', 'double'),\n",
              " ('area', 'double')]"
            ]
          },
          "metadata": {
            "tags": []
          },
          "execution_count": 47
        }
      ]
    },
    {
      "cell_type": "markdown",
      "metadata": {
        "id": "hSF4GGlOA83T"
      },
      "source": [
        "## Aggregations with our DataFrame"
      ]
    },
    {
      "cell_type": "markdown",
      "metadata": {
        "id": "e9Gf48JZA83U"
      },
      "source": [
        "Let's investigate to see if there is any correlation between what month it is and the area of fire: "
      ]
    },
    {
      "cell_type": "code",
      "metadata": {
        "id": "dZlOoRXjA83U",
        "outputId": "30fdc58f-ae9b-4b61-ee8e-a375754d5be4",
        "colab": {
          "base_uri": "https://localhost:8080/",
          "height": 34
        }
      },
      "source": [
        "spark_df_months = spark_df.groupBy('month').agg({'area': 'mean'})\n",
        "spark_df_months"
      ],
      "execution_count": null,
      "outputs": [
        {
          "output_type": "execute_result",
          "data": {
            "text/plain": [
              "DataFrame[month: string, avg(area): double]"
            ]
          },
          "metadata": {
            "tags": []
          },
          "execution_count": 48
        }
      ]
    },
    {
      "cell_type": "markdown",
      "metadata": {
        "id": "twfahxxYA83X"
      },
      "source": [
        "Notice how the grouped DataFrame is not returned when you call the aggregation method. Remember, this is still Spark! The transformations and actions are kept separate so that it is easier to manage large quantities of data. You can perform the transformation by calling `.collect()`: "
      ]
    },
    {
      "cell_type": "code",
      "metadata": {
        "id": "184EFL9rA83Y",
        "outputId": "a730b050-3cbe-46a0-cf8c-325243585633",
        "colab": {
          "base_uri": "https://localhost:8080/",
          "height": 221
        }
      },
      "source": [
        "spark_df_months.collect()"
      ],
      "execution_count": null,
      "outputs": [
        {
          "output_type": "execute_result",
          "data": {
            "text/plain": [
              "[Row(month='jun', avg(area)=5.841176470588234),\n",
              " Row(month='aug', avg(area)=12.489076086956521),\n",
              " Row(month='may', avg(area)=19.24),\n",
              " Row(month='feb', avg(area)=6.275),\n",
              " Row(month='sep', avg(area)=17.942616279069753),\n",
              " Row(month='mar', avg(area)=4.356666666666667),\n",
              " Row(month='oct', avg(area)=6.638),\n",
              " Row(month='jul', avg(area)=14.3696875),\n",
              " Row(month='nov', avg(area)=0.0),\n",
              " Row(month='apr', avg(area)=8.891111111111112),\n",
              " Row(month='dec', avg(area)=13.33),\n",
              " Row(month='jan', avg(area)=0.0)]"
            ]
          },
          "metadata": {
            "tags": []
          },
          "execution_count": 50
        }
      ]
    },
    {
      "cell_type": "markdown",
      "metadata": {
        "id": "ht0RZmVCA83a"
      },
      "source": [
        "As you can see, there seem to be larger area fires during what would be considered the summer months in Portugal. On your own, practice more aggregations and manipulations that you might be able to perform on this dataset. "
      ]
    },
    {
      "cell_type": "markdown",
      "metadata": {
        "id": "2LQ-0RH3A83b"
      },
      "source": [
        "## Boolean Masking \n",
        "\n",
        "Boolean masking also works with PySpark DataFrames just like Pandas DataFrames, the only difference being that the `.filter()` method is used in PySpark. To try this out, let's compare the amount of fire in those areas with absolutely no rain to those areas that had rain."
      ]
    },
    {
      "cell_type": "code",
      "metadata": {
        "id": "QIdM9BoTA83b"
      },
      "source": [
        "no_rain = spark_df.filter(spark_df['rain'] == 0.0)\n",
        "some_rain = spark_df.filter(spark_df['rain'] > 0.0)"
      ],
      "execution_count": null,
      "outputs": []
    },
    {
      "cell_type": "markdown",
      "metadata": {
        "id": "IeO8fSvkA83e"
      },
      "source": [
        "Now, to perform calculations to find the mean of a column, we'll have to import functions from `pyspark.sql`. As always, to read more about them, check out the [documentation](https://spark.apache.org/docs/latest/api/python/pyspark.sql.html#module-pyspark.sql.functions)."
      ]
    },
    {
      "cell_type": "code",
      "metadata": {
        "id": "3l4q8QvYA83f",
        "outputId": "f4feb145-9c0e-48ec-bb89-96c24675cb81",
        "colab": {
          "base_uri": "https://localhost:8080/",
          "height": 255
        }
      },
      "source": [
        "from pyspark.sql.functions import mean\n",
        "\n",
        "print('no rain fire area: ')\n",
        "no_rain.select(mean('area')).show()\n",
        "\n",
        "print('some rain fire area: ')\n",
        "some_rain.select(mean('area')).show()"
      ],
      "execution_count": null,
      "outputs": [
        {
          "output_type": "stream",
          "text": [
            "no rain fire area: \n",
            "+------------------+\n",
            "|         avg(area)|\n",
            "+------------------+\n",
            "|13.023693516699408|\n",
            "+------------------+\n",
            "\n",
            "some rain fire area: \n",
            "+---------+\n",
            "|avg(area)|\n",
            "+---------+\n",
            "|  1.62375|\n",
            "+---------+\n",
            "\n"
          ],
          "name": "stdout"
        }
      ]
    },
    {
      "cell_type": "markdown",
      "metadata": {
        "id": "DEIdEuBPA83j"
      },
      "source": [
        "Yes there's definitely something there! Unsurprisingly, rain plays in a big factor in the spread of wildfire.\n",
        "\n",
        "Let's obtain data from only the summer months in Portugal (June, July, and August). We can also do the same for the winter months in Portugal (December, January, February)."
      ]
    },
    {
      "cell_type": "code",
      "metadata": {
        "id": "x89WX-8HA83j",
        "outputId": "fb3f4531-72af-4bec-c8ce-f1ff40312660",
        "colab": {
          "base_uri": "https://localhost:8080/",
          "height": 255
        }
      },
      "source": [
        "summer_months = spark_df.filter(spark_df['month'].isin(['jun','jul','aug']))\n",
        "winter_months = spark_df.filter(spark_df['month'].isin(['dec','jan','feb']))\n",
        "\n",
        "print('summer months fire area', summer_months.select(mean('area')).show())\n",
        "print('winter months fire areas', winter_months.select(mean('area')).show())"
      ],
      "execution_count": null,
      "outputs": [
        {
          "output_type": "stream",
          "text": [
            "+------------------+\n",
            "|         avg(area)|\n",
            "+------------------+\n",
            "|12.262317596566525|\n",
            "+------------------+\n",
            "\n",
            "summer months fire area None\n",
            "+-----------------+\n",
            "|        avg(area)|\n",
            "+-----------------+\n",
            "|7.918387096774193|\n",
            "+-----------------+\n",
            "\n",
            "winter months fire areas None\n"
          ],
          "name": "stdout"
        }
      ]
    },
    {
      "cell_type": "markdown",
      "metadata": {
        "id": "ssmfOuauA83m"
      },
      "source": [
        "## Machine Learning\n",
        "\n",
        "Now that we've performed some data manipulation and aggregation, lets get to the really cool stuff, machine learning! PySpark states that they've used scikit-learn as an inspiration for their implementation of a machine learning library. As a result, many of the methods and functionalities look similar, but there are some crucial distinctions. There are three main concepts found within the ML library:\n",
        "\n",
        "`Transformer`: An algorithm that transforms one PySpark DataFrame into another DataFrame. \n",
        "\n",
        "`Estimator`: An algorithm that can be fit onto a PySpark DataFrame that can then be used as a Transformer. \n",
        "\n",
        "`Pipeline`: A pipeline very similar to an `sklearn` pipeline that chains together different actions.\n",
        "\n",
        "The reasoning behind this separation of the fitting and transforming step is because Spark is lazily evaluated, so the 'fitting' of a model does not actually take place until the Transformation action is called. Let's examine what this actually looks like by performing a regression on the Forest Fire dataset. To start off with, we'll import the necessary libraries for our tasks."
      ]
    },
    {
      "cell_type": "code",
      "metadata": {
        "id": "-me1lnaAA83m"
      },
      "source": [
        "from pyspark.ml.regression import RandomForestRegressor\n",
        "from pyspark.ml import feature\n",
        "from pyspark.ml.feature import StringIndexer, VectorAssembler, OneHotEncoderEstimator"
      ],
      "execution_count": null,
      "outputs": []
    },
    {
      "cell_type": "markdown",
      "metadata": {
        "id": "sjQu3h7WA83q"
      },
      "source": [
        "Looking at our data, one can see that all the categories are numerical except for day and month. We saw some correlation between the month and area burned in a fire, so we will include that in our model. The day of the week, however, is highly unlikely to have any effect on fire, so we will drop it from the DataFrame."
      ]
    },
    {
      "cell_type": "code",
      "metadata": {
        "id": "ocgDUUSNA83q",
        "outputId": "b7f27257-c19d-42e1-96b1-bcd6e1bb0ecd",
        "colab": {
          "base_uri": "https://localhost:8080/",
          "height": 34
        }
      },
      "source": [
        "fire_df = spark_df.drop('day')\n",
        "fire_df.head()"
      ],
      "execution_count": null,
      "outputs": [
        {
          "output_type": "execute_result",
          "data": {
            "text/plain": [
              "Row(X=7, Y=5, month='mar', FFMC=86.2, DMC=26.2, DC=94.3, ISI=5.1, temp=8.2, RH=51, wind=6.7, rain=0.0, area=0.0)"
            ]
          },
          "metadata": {
            "tags": []
          },
          "execution_count": 57
        }
      ]
    },
    {
      "cell_type": "markdown",
      "metadata": {
        "id": "iBtuu4jZA83s"
      },
      "source": [
        "In order for us to run our model, we need to turn the months variable into a dummy variable. In `ml` this is a 2-step process that first requires turning the categorical variable into a numerical index (`StringIndexer`). Only after the variable is an integer can PySpark create dummy variable columns related to each category (`OneHotEncoderEstimator`). Your key parameters when using these `ml` estimators are: `inputCol` (the column you want to change) and `outputCol` (where you will store the changed column). Here it is in action: "
      ]
    },
    {
      "cell_type": "code",
      "metadata": {
        "id": "9RVsjj6VA83t"
      },
      "source": [
        "si = StringIndexer(inputCol='month', outputCol='month_num')\n",
        "model = si.fit(fire_df)\n",
        "new_df = model.transform(fire_df)"
      ],
      "execution_count": null,
      "outputs": []
    },
    {
      "cell_type": "markdown",
      "metadata": {
        "id": "mUhmnlOrA83w"
      },
      "source": [
        "Note the small, but critical distinction between `sklearn`'s implementation of a transformer and PySpark's implementation. `sklearn` is more object oriented and Spark is more functional oriented."
      ]
    },
    {
      "cell_type": "code",
      "metadata": {
        "id": "xMhtRpygA83w",
        "outputId": "a827e2e0-21fb-4214-c9bf-4f5347dce005",
        "colab": {
          "base_uri": "https://localhost:8080/",
          "height": 34
        }
      },
      "source": [
        "## this is an estimator (an untrained transformer)\n",
        "type(si)"
      ],
      "execution_count": null,
      "outputs": [
        {
          "output_type": "execute_result",
          "data": {
            "text/plain": [
              "pyspark.ml.feature.StringIndexer"
            ]
          },
          "metadata": {
            "tags": []
          },
          "execution_count": 59
        }
      ]
    },
    {
      "cell_type": "code",
      "metadata": {
        "id": "Jflsv2qIA83y",
        "outputId": "987d0fb8-8c5b-4a29-e2d2-3944d7ee95ce",
        "colab": {
          "base_uri": "https://localhost:8080/",
          "height": 34
        }
      },
      "source": [
        "## this is a transformer (a trained transformer)\n",
        "type(model)"
      ],
      "execution_count": null,
      "outputs": [
        {
          "output_type": "execute_result",
          "data": {
            "text/plain": [
              "pyspark.ml.feature.StringIndexerModel"
            ]
          },
          "metadata": {
            "tags": []
          },
          "execution_count": 60
        }
      ]
    },
    {
      "cell_type": "code",
      "metadata": {
        "id": "96k-43yvA830",
        "outputId": "e703d2ee-3583-4705-af4a-0f6f63cfc041",
        "colab": {
          "base_uri": "https://localhost:8080/",
          "height": 221
        }
      },
      "source": [
        "model.labels"
      ],
      "execution_count": null,
      "outputs": [
        {
          "output_type": "execute_result",
          "data": {
            "text/plain": [
              "['aug',\n",
              " 'sep',\n",
              " 'mar',\n",
              " 'jul',\n",
              " 'feb',\n",
              " 'jun',\n",
              " 'oct',\n",
              " 'apr',\n",
              " 'dec',\n",
              " 'jan',\n",
              " 'may',\n",
              " 'nov']"
            ]
          },
          "metadata": {
            "tags": []
          },
          "execution_count": 61
        }
      ]
    },
    {
      "cell_type": "code",
      "metadata": {
        "id": "jtld3e5eA833",
        "outputId": "bcc4c7df-fcd6-426b-f86f-8de3c8138a3d",
        "colab": {
          "base_uri": "https://localhost:8080/",
          "height": 105
        }
      },
      "source": [
        "new_df.head(4)"
      ],
      "execution_count": null,
      "outputs": [
        {
          "output_type": "execute_result",
          "data": {
            "text/plain": [
              "[Row(X=7, Y=5, month='mar', FFMC=86.2, DMC=26.2, DC=94.3, ISI=5.1, temp=8.2, RH=51, wind=6.7, rain=0.0, area=0.0, month_num=2.0),\n",
              " Row(X=7, Y=4, month='oct', FFMC=90.6, DMC=35.4, DC=669.1, ISI=6.7, temp=18.0, RH=33, wind=0.9, rain=0.0, area=0.0, month_num=6.0),\n",
              " Row(X=7, Y=4, month='oct', FFMC=90.6, DMC=43.7, DC=686.9, ISI=6.7, temp=14.6, RH=33, wind=1.3, rain=0.0, area=0.0, month_num=6.0),\n",
              " Row(X=8, Y=6, month='mar', FFMC=91.7, DMC=33.3, DC=77.5, ISI=9.0, temp=8.3, RH=97, wind=4.0, rain=0.2, area=0.0, month_num=2.0)]"
            ]
          },
          "metadata": {
            "tags": []
          },
          "execution_count": 62
        }
      ]
    },
    {
      "cell_type": "markdown",
      "metadata": {
        "id": "zIPlgEdWA837"
      },
      "source": [
        "As you can see, we have created a new column called `'month_num'` that represents the month by a number. Now that we have performed this step, we can use Spark's version of `OneHotEncoder()` - `OneHotEncoderEstimator()`. Let's make sure we have an accurate representation of the months."
      ]
    },
    {
      "cell_type": "code",
      "metadata": {
        "id": "iJRXb28XA838",
        "outputId": "0decfb31-17d1-4cd9-fc4e-d29f6616709c",
        "colab": {
          "base_uri": "https://localhost:8080/",
          "height": 221
        }
      },
      "source": [
        "new_df.select('month_num').distinct().collect()"
      ],
      "execution_count": null,
      "outputs": [
        {
          "output_type": "execute_result",
          "data": {
            "text/plain": [
              "[Row(month_num=8.0),\n",
              " Row(month_num=0.0),\n",
              " Row(month_num=7.0),\n",
              " Row(month_num=1.0),\n",
              " Row(month_num=4.0),\n",
              " Row(month_num=11.0),\n",
              " Row(month_num=3.0),\n",
              " Row(month_num=2.0),\n",
              " Row(month_num=10.0),\n",
              " Row(month_num=6.0),\n",
              " Row(month_num=5.0),\n",
              " Row(month_num=9.0)]"
            ]
          },
          "metadata": {
            "tags": []
          },
          "execution_count": 63
        }
      ]
    },
    {
      "cell_type": "code",
      "metadata": {
        "id": "x8SIS1NCA83_",
        "outputId": "490e0f88-c834-4696-be84-ec77f4ff0ca9",
        "colab": {
          "base_uri": "https://localhost:8080/",
          "height": 122
        }
      },
      "source": [
        "## fitting and transforming the OneHotEncoderEstimator\n",
        "ohe = feature.OneHotEncoderEstimator(inputCols=['month_num'], outputCols=['month_vec'], dropLast=True)\n",
        "one_hot_encoded = ohe.fit(new_df).transform(new_df)\n",
        "one_hot_encoded.head(5)"
      ],
      "execution_count": null,
      "outputs": [
        {
          "output_type": "execute_result",
          "data": {
            "text/plain": [
              "[Row(X=7, Y=5, month='mar', FFMC=86.2, DMC=26.2, DC=94.3, ISI=5.1, temp=8.2, RH=51, wind=6.7, rain=0.0, area=0.0, month_num=2.0, month_vec=SparseVector(11, {2: 1.0})),\n",
              " Row(X=7, Y=4, month='oct', FFMC=90.6, DMC=35.4, DC=669.1, ISI=6.7, temp=18.0, RH=33, wind=0.9, rain=0.0, area=0.0, month_num=6.0, month_vec=SparseVector(11, {6: 1.0})),\n",
              " Row(X=7, Y=4, month='oct', FFMC=90.6, DMC=43.7, DC=686.9, ISI=6.7, temp=14.6, RH=33, wind=1.3, rain=0.0, area=0.0, month_num=6.0, month_vec=SparseVector(11, {6: 1.0})),\n",
              " Row(X=8, Y=6, month='mar', FFMC=91.7, DMC=33.3, DC=77.5, ISI=9.0, temp=8.3, RH=97, wind=4.0, rain=0.2, area=0.0, month_num=2.0, month_vec=SparseVector(11, {2: 1.0})),\n",
              " Row(X=8, Y=6, month='mar', FFMC=89.3, DMC=51.3, DC=102.2, ISI=9.6, temp=11.4, RH=99, wind=1.8, rain=0.0, area=0.0, month_num=2.0, month_vec=SparseVector(11, {2: 1.0}))]"
            ]
          },
          "metadata": {
            "tags": []
          },
          "execution_count": 65
        }
      ]
    },
    {
      "cell_type": "markdown",
      "metadata": {
        "id": "yqbGjalVA84C"
      },
      "source": [
        "Great, we now have a OneHotEncoded sparse vector in the `'month_vec'` column! Because Spark is optimized for big data, sparse vectors are used rather than entirely new columns for dummy variables because it is more space efficient. You can see in this first row of the DataFrame:  \n",
        "\n",
        "`month_vec=SparseVector(11, {2: 1.0})` this indicates that we have a sparse vector of size 11 (because of the parameter `dropLast = True` in `OneHotEncoderEstimator()`) and this particular data point is the 2nd index of our month labels (march, based off the labels in the `model` StringEstimator transformer).  \n",
        "\n",
        "The final requirement for all machine learning models in PySpark is to put all of the features of your model into one sparse vector. This is once again for efficiency sake. Here, we are doing that with the `VectorAssembler()` estimator."
      ]
    },
    {
      "cell_type": "code",
      "metadata": {
        "id": "6TsZKcuiA84D"
      },
      "source": [
        "features = ['X',\n",
        " 'Y',\n",
        " 'FFMC',\n",
        " 'DMC',\n",
        " 'DC',\n",
        " 'ISI',\n",
        " 'temp',\n",
        " 'RH',\n",
        " 'wind',\n",
        " 'rain',\n",
        " 'month_vec']\n",
        "\n",
        "target = 'area'\n",
        "\n",
        "vector = VectorAssembler(inputCols=features, outputCol='features')\n",
        "vectorized_df = vector.transform(one_hot_encoded)"
      ],
      "execution_count": null,
      "outputs": []
    },
    {
      "cell_type": "code",
      "metadata": {
        "id": "ZEc6DPcgA84F",
        "outputId": "ad9e09ba-7f0c-4e0a-ef11-f1fc759869d3",
        "colab": {
          "base_uri": "https://localhost:8080/",
          "height": 54
        }
      },
      "source": [
        "vectorized_df.head()"
      ],
      "execution_count": null,
      "outputs": [
        {
          "output_type": "execute_result",
          "data": {
            "text/plain": [
              "Row(X=7, Y=5, month='mar', FFMC=86.2, DMC=26.2, DC=94.3, ISI=5.1, temp=8.2, RH=51, wind=6.7, rain=0.0, area=0.0, month_num=2.0, month_vec=SparseVector(11, {2: 1.0}), features=SparseVector(21, {0: 7.0, 1: 5.0, 2: 86.2, 3: 26.2, 4: 94.3, 5: 5.1, 6: 8.2, 7: 51.0, 8: 6.7, 12: 1.0}))"
            ]
          },
          "metadata": {
            "tags": []
          },
          "execution_count": 69
        }
      ]
    },
    {
      "cell_type": "markdown",
      "metadata": {
        "id": "uWeF0pkbA84H"
      },
      "source": [
        "Great! We now have our data in a format that seems acceptable for the last step. It's time for us to actually fit our model to data! Let's fit a Random Forest Regression model to our data. Although there are still a bunch of other features in the DataFrame, it doesn't matter for the machine learning model API. All that needs to be specified are the names of the features column and the label column. "
      ]
    },
    {
      "cell_type": "code",
      "metadata": {
        "id": "Hi44iNf9A84H"
      },
      "source": [
        "## instantiating and fitting the model\n",
        "rf_model = RandomForestRegressor(featuresCol='features', \n",
        "                                 labelCol='area', predictionCol='prediction').fit(vectorized_df)"
      ],
      "execution_count": null,
      "outputs": []
    },
    {
      "cell_type": "code",
      "metadata": {
        "id": "ld2-n--QA84J",
        "outputId": "4fa82b47-2d9f-46d6-bb22-d8d4e747ed4f",
        "colab": {
          "base_uri": "https://localhost:8080/",
          "height": 54
        }
      },
      "source": [
        "rf_model.featureImportances"
      ],
      "execution_count": null,
      "outputs": [
        {
          "output_type": "execute_result",
          "data": {
            "text/plain": [
              "SparseVector(21, {0: 0.0753, 1: 0.1044, 2: 0.1443, 3: 0.2025, 4: 0.0713, 5: 0.0306, 6: 0.0907, 7: 0.084, 8: 0.1195, 10: 0.0043, 11: 0.0673, 12: 0.0, 13: 0.0051, 14: 0.0, 15: 0.0001, 16: 0.0, 17: 0.0, 18: 0.0003, 20: 0.0002})"
            ]
          },
          "metadata": {
            "tags": []
          },
          "execution_count": 73
        }
      ]
    },
    {
      "cell_type": "code",
      "metadata": {
        "id": "Hn40-uSoA84N",
        "outputId": "de5f7396-c106-4ce9-f7ab-bfeb82ef0843",
        "colab": {
          "base_uri": "https://localhost:8080/",
          "height": 187
        }
      },
      "source": [
        "## generating predictions\n",
        "predictions = rf_model.transform(vectorized_df).select('area', 'prediction')\n",
        "predictions.head(10)"
      ],
      "execution_count": null,
      "outputs": [
        {
          "output_type": "execute_result",
          "data": {
            "text/plain": [
              "[Row(area=0.0, prediction=8.983088251021552),\n",
              " Row(area=0.0, prediction=3.9885008169210048),\n",
              " Row(area=0.0, prediction=6.474938652724463),\n",
              " Row(area=0.0, prediction=8.29068935400483),\n",
              " Row(area=0.0, prediction=6.993121357792421),\n",
              " Row(area=0.0, prediction=15.58829253375303),\n",
              " Row(area=0.0, prediction=28.905833622794603),\n",
              " Row(area=0.0, prediction=11.991942295100928),\n",
              " Row(area=0.0, prediction=8.503082917128951),\n",
              " Row(area=0.0, prediction=59.98229993174776)]"
            ]
          },
          "metadata": {
            "tags": []
          },
          "execution_count": 74
        }
      ]
    },
    {
      "cell_type": "markdown",
      "metadata": {
        "id": "K-7PFPLxA84P"
      },
      "source": [
        "Now we can evaluate how well the model performed using `RegressionEvaluator`."
      ]
    },
    {
      "cell_type": "code",
      "metadata": {
        "id": "CbsF-F-lA84P"
      },
      "source": [
        "from pyspark.ml.evaluation import RegressionEvaluator\n",
        "evaluator = RegressionEvaluator(predictionCol='prediction', labelCol='area')"
      ],
      "execution_count": null,
      "outputs": []
    },
    {
      "cell_type": "code",
      "metadata": {
        "id": "z_jXQ-z7A84R",
        "outputId": "a4206e48-0dd2-4351-8843-727aa02e2e69",
        "colab": {
          "base_uri": "https://localhost:8080/",
          "height": 34
        }
      },
      "source": [
        "## evaluating r^2\n",
        "evaluator.evaluate(predictions,{evaluator.metricName: 'r2'})"
      ],
      "execution_count": null,
      "outputs": [
        {
          "output_type": "execute_result",
          "data": {
            "text/plain": [
              "0.7352361588374061"
            ]
          },
          "metadata": {
            "tags": []
          },
          "execution_count": 76
        }
      ]
    },
    {
      "cell_type": "code",
      "metadata": {
        "id": "G4W35Sw_A84T",
        "outputId": "3468e1d3-8a0b-4598-afdd-e4cae4c65b72",
        "colab": {
          "base_uri": "https://localhost:8080/",
          "height": 34
        }
      },
      "source": [
        "## evaluating mean absolute error\n",
        "evaluator.evaluate(predictions,{evaluator.metricName: 'mae'})"
      ],
      "execution_count": null,
      "outputs": [
        {
          "output_type": "execute_result",
          "data": {
            "text/plain": [
              "14.27068570980325"
            ]
          },
          "metadata": {
            "tags": []
          },
          "execution_count": 77
        }
      ]
    },
    {
      "cell_type": "markdown",
      "metadata": {
        "id": "3X60s5D5A84V"
      },
      "source": [
        "## Putting it all in a Pipeline\n",
        "\n",
        "We just performed a whole lot of transformations to our data. Let's take a look at all the estimators we used to create this model:\n",
        "\n",
        "* `StringIndexer()` \n",
        "* `OneHotEnconderEstimator()` \n",
        "* `VectorAssembler()` \n",
        "* `RandomForestRegressor()` \n",
        "\n",
        "Once we've fit our model in the Pipeline, we're then going to want to evaluate it to determine how well it performs. We can do this with:\n",
        "\n",
        "* `RegressionEvaluator()` \n",
        "\n",
        "We can streamline all of these transformations to make it much more efficient by chaining them together in a pipeline. The Pipeline object expects a list of the estimators prior set to the parameter `stages`."
      ]
    },
    {
      "cell_type": "code",
      "metadata": {
        "id": "C9mzU6HKA84V"
      },
      "source": [
        "# importing relevant libraries\n",
        "from pyspark.ml.tuning import ParamGridBuilder, TrainValidationSplit, CrossValidator\n",
        "from pyspark.ml import Pipeline"
      ],
      "execution_count": null,
      "outputs": []
    },
    {
      "cell_type": "code",
      "metadata": {
        "id": "t8fBWuYlA84X"
      },
      "source": [
        "## instantiating all necessary estimator objects\n",
        "\n",
        "string_indexer = StringIndexer(inputCol='month', outputCol='month_num', handleInvalid='keep')\n",
        "one_hot_encoder = OneHotEncoderEstimator(inputCols=['month_num'], outputCols=['month_vec'], dropLast=True)\n",
        "vector_assember = VectorAssembler(inputCols=features, outputCol='features')\n",
        "random_forest = RandomForestRegressor(featuresCol='features', labelCol='area')\n",
        "stages = [string_indexer, one_hot_encoder, vector_assember, random_forest]\n",
        "\n",
        "# instantiating the pipeline with all them estimator objects\n",
        "pipeline = Pipeline(stages=stages)"
      ],
      "execution_count": null,
      "outputs": []
    },
    {
      "cell_type": "markdown",
      "metadata": {
        "id": "a1JkiasZA84a"
      },
      "source": [
        "### Cross-validation \n",
        "\n",
        "You might have missed a critical step in the random forest regression above; we did not cross validate or perform a train/test split! Now we're going to fix that by performing cross-validation and also testing out multiple different combinations of parameters in PySpark's `GridSearch()` equivalent. To begin with, we will create a parameter grid that contains the different parameters we want to use in our model."
      ]
    },
    {
      "cell_type": "code",
      "metadata": {
        "id": "_gkpztSYA84a"
      },
      "source": [
        "# creating parameter grid\n",
        "params = ParamGridBuilder()\\\n",
        "          .addGrid(random_forest.maxDepth, [5, 10, 15])\\\n",
        "          .addGrid(random_forest.numTrees, [20 ,50, 100])\\\n",
        "          .build()"
      ],
      "execution_count": null,
      "outputs": []
    },
    {
      "cell_type": "markdown",
      "metadata": {
        "id": "eonSWQRKA84c"
      },
      "source": [
        "Let's take a look at the params variable we just built."
      ]
    },
    {
      "cell_type": "code",
      "metadata": {
        "id": "-IXfW5ijA84d",
        "outputId": "1fac43c7-f122-4931-d917-8a2f4307666c",
        "colab": {
          "base_uri": "https://localhost:8080/",
          "height": 88
        }
      },
      "source": [
        "print('total combinations of parameters: ', len(params))\n",
        "\n",
        "params[0]"
      ],
      "execution_count": null,
      "outputs": [
        {
          "output_type": "stream",
          "text": [
            "total combinations of parameters:  9\n"
          ],
          "name": "stdout"
        },
        {
          "output_type": "execute_result",
          "data": {
            "text/plain": [
              "{Param(parent='RandomForestRegressor_b9cd5d563a7d', name='maxDepth', doc='Maximum depth of the tree. (>= 0) E.g., depth 0 means 1 leaf node; depth 1 means 1 internal node + 2 leaf nodes.'): 5,\n",
              " Param(parent='RandomForestRegressor_b9cd5d563a7d', name='numTrees', doc='Number of trees to train (>= 1).'): 20}"
            ]
          },
          "metadata": {
            "tags": []
          },
          "execution_count": 89
        }
      ]
    },
    {
      "cell_type": "markdown",
      "metadata": {
        "id": "cJcuauaBA84g"
      },
      "source": [
        "Now it's time to combine all the steps we've created to work in a single line of code with the `CrossValidator()` estimator."
      ]
    },
    {
      "cell_type": "code",
      "metadata": {
        "id": "bXlrUE0TA84h"
      },
      "source": [
        "## instantiating the evaluator by which we will measure our model's performance\n",
        "reg_evaluator = RegressionEvaluator(predictionCol='prediction', labelCol='area', metricName = 'mae')\n",
        "\n",
        "## instantiating crossvalidator estimator\n",
        "cv = CrossValidator(estimator=pipeline, estimatorParamMaps=params, evaluator=reg_evaluator, parallelism=4)"
      ],
      "execution_count": null,
      "outputs": []
    },
    {
      "cell_type": "code",
      "metadata": {
        "id": "c-1Ap6EqA84j",
        "colab": {
          "background_save": true
        }
      },
      "source": [
        "## fitting crossvalidator\n",
        "cross_validated_model = cv.fit(fire_df)"
      ],
      "execution_count": null,
      "outputs": []
    },
    {
      "cell_type": "markdown",
      "metadata": {
        "id": "LOxCsnp7A84o"
      },
      "source": [
        "Now, let's see how well the model performed! Let's take a look at the average performance for each one of our 9 models. It looks like the optimal performance is an MAE around 23. Note that this is worse than our original model, but that's because our original model had substantial data leakage. We didn't do a train-test split!"
      ]
    },
    {
      "cell_type": "code",
      "metadata": {
        "id": "Wv_05jUqA84o",
        "scrolled": true
      },
      "source": [
        "cross_validated_model.avgMetrics"
      ],
      "execution_count": null,
      "outputs": []
    },
    {
      "cell_type": "markdown",
      "metadata": {
        "id": "7TVZbOT_A84t"
      },
      "source": [
        "Now, let's take a look at the optimal parameters of our best performing model. The `cross_validated_model` variable is now saved as the best performing model from the grid search just performed. Let's look to see how well the predictions performed. As you can see, this dataset has a large number of areas of \"0.0\" burned. Perhaps, it would be better to investigate this problem as a classification task."
      ]
    },
    {
      "cell_type": "code",
      "metadata": {
        "id": "iGR4ALSOA84t",
        "outputId": "b2ef9f60-0de6-43ed-db74-a7e8f3c60cd8",
        "colab": {
          "base_uri": "https://localhost:8080/",
          "height": 1000
        }
      },
      "source": [
        "predictions = cross_validated_model.transform(spark_df)\n",
        "predictions.select('prediction', 'area').show(300)"
      ],
      "execution_count": 92,
      "outputs": [
        {
          "output_type": "stream",
          "text": [
            "+------------------+-------+\n",
            "|        prediction|   area|\n",
            "+------------------+-------+\n",
            "| 6.212622568870638|    0.0|\n",
            "|4.3928552388801645|    0.0|\n",
            "| 4.745726752181733|    0.0|\n",
            "|5.5942033102227935|    0.0|\n",
            "| 4.681207706954029|    0.0|\n",
            "| 6.865096694685066|    0.0|\n",
            "|15.328078917281132|    0.0|\n",
            "|12.787127719283061|    0.0|\n",
            "|7.1740269005720565|    0.0|\n",
            "| 5.383921757117948|    0.0|\n",
            "| 6.019592319646973|    0.0|\n",
            "|  5.55657172573289|    0.0|\n",
            "|12.575514406591363|    0.0|\n",
            "| 7.813571017005176|    0.0|\n",
            "|204.16095028765096|    0.0|\n",
            "| 7.058932707902616|    0.0|\n",
            "| 4.367551527631314|    0.0|\n",
            "| 7.138959615391772|    0.0|\n",
            "| 5.235180355900844|    0.0|\n",
            "|5.2787808364430076|    0.0|\n",
            "|  8.64309270256248|    0.0|\n",
            "| 4.443535796170466|    0.0|\n",
            "| 7.063660572846514|    0.0|\n",
            "| 8.756518455566361|    0.0|\n",
            "| 6.673217070096783|    0.0|\n",
            "|7.3530427147434425|    0.0|\n",
            "| 7.420610949444315|    0.0|\n",
            "| 8.099571952252024|    0.0|\n",
            "| 9.755956061129837|    0.0|\n",
            "| 9.599977450365738|    0.0|\n",
            "| 5.629901425852912|    0.0|\n",
            "| 6.050978301968326|    0.0|\n",
            "| 7.106138700974634|    0.0|\n",
            "| 5.656795401159785|    0.0|\n",
            "| 4.231441833876516|    0.0|\n",
            "|   6.2019552625137|    0.0|\n",
            "| 10.65478612050158|    0.0|\n",
            "| 5.952611114799033|    0.0|\n",
            "| 6.464003807871265|    0.0|\n",
            "|  4.61935515674051|    0.0|\n",
            "| 5.069853592275745|    0.0|\n",
            "| 5.737985267024057|    0.0|\n",
            "| 4.713546552087651|    0.0|\n",
            "|5.1428449714883815|    0.0|\n",
            "| 6.096382475186661|    0.0|\n",
            "|129.61690005952178|    0.0|\n",
            "|  6.13904234666917|    0.0|\n",
            "| 4.169762963164475|    0.0|\n",
            "| 4.985446875395924|    0.0|\n",
            "| 6.468108678960997|    0.0|\n",
            "|14.374372601240717|    0.0|\n",
            "| 4.712365832369617|    0.0|\n",
            "| 5.022245297453494|    0.0|\n",
            "| 5.022245297453494|    0.0|\n",
            "| 4.823824893402458|    0.0|\n",
            "|14.585583596897507|    0.0|\n",
            "| 6.194816267111927|    0.0|\n",
            "|3.8849949990267114|    0.0|\n",
            "| 5.593572805420244|    0.0|\n",
            "| 5.195083884290812|    0.0|\n",
            "|3.8544455201897443|    0.0|\n",
            "|3.8362352063275553|    0.0|\n",
            "| 5.325130627574383|    0.0|\n",
            "|  4.00032939776653|    0.0|\n",
            "|3.8873945387776594|    0.0|\n",
            "|  5.24705812838986|    0.0|\n",
            "|5.9137413813374815|    0.0|\n",
            "| 6.684944789040889|    0.0|\n",
            "| 6.657749734095833|    0.0|\n",
            "|10.856794726040567|    0.0|\n",
            "| 6.333190767173538|    0.0|\n",
            "|  4.69878734037636|    0.0|\n",
            "|4.0811264028315195|    0.0|\n",
            "| 5.173074301017369|    0.0|\n",
            "| 5.749061021696084|    0.0|\n",
            "| 4.862467969785948|    0.0|\n",
            "| 8.711059589840376|    0.0|\n",
            "| 7.215201932843817|    0.0|\n",
            "| 2.993283876042533|    0.0|\n",
            "|10.518843240011275|    0.0|\n",
            "| 6.365722419522754|    0.0|\n",
            "|3.8184607612932417|    0.0|\n",
            "| 4.033594916348762|    0.0|\n",
            "|2.4161111663590376|    0.0|\n",
            "| 4.345138045188527|    0.0|\n",
            "| 12.05393858098402|    0.0|\n",
            "| 6.857203202070849|    0.0|\n",
            "|12.533897897646588|    0.0|\n",
            "|16.669085509544495|    0.0|\n",
            "| 5.565344753899552|    0.0|\n",
            "|  9.94659874375327|    0.0|\n",
            "| 9.799095239366165|    0.0|\n",
            "|13.548206610369979|    0.0|\n",
            "|21.161987564769078|    0.0|\n",
            "| 6.811058508604843|    0.0|\n",
            "| 6.911384570270452|    0.0|\n",
            "| 6.722574898400514|    0.0|\n",
            "| 4.446573382904524|    0.0|\n",
            "| 5.093786730909235|    0.0|\n",
            "| 6.341456087600379|    0.0|\n",
            "| 6.341456087600379|    0.0|\n",
            "| 5.383014013457759|    0.0|\n",
            "|6.0793530463141225|    0.0|\n",
            "|16.201314204900136|    0.0|\n",
            "| 5.994706926682811|    0.0|\n",
            "| 5.581143157896695|    0.0|\n",
            "| 4.758266993953051|    0.0|\n",
            "| 4.592179692782604|    0.0|\n",
            "|4.0869992529721655|    0.0|\n",
            "| 5.839744494695249|    0.0|\n",
            "|  5.83940262748241|    0.0|\n",
            "| 4.338275453441506|    0.0|\n",
            "|6.8218453567347055|    0.0|\n",
            "| 4.443535796170466|    0.0|\n",
            "| 4.859094216237858|    0.0|\n",
            "| 4.119227170783312|    0.0|\n",
            "| 5.366204301176576|    0.0|\n",
            "|  5.10741857308586|    0.0|\n",
            "| 5.028810346636302|    0.0|\n",
            "|4.6494283112915875|    0.0|\n",
            "|3.8820834907316275|    0.0|\n",
            "| 5.197880890288584|    0.0|\n",
            "|   8.3972926296623|    0.0|\n",
            "| 13.34143812265765|    0.0|\n",
            "| 8.233599643222632|    0.0|\n",
            "| 16.22599807410788|    0.0|\n",
            "| 4.171942403682818|    0.0|\n",
            "| 5.993947200238187|    0.0|\n",
            "| 4.716799577775271|    0.0|\n",
            "| 4.020342905748963|    0.0|\n",
            "|  5.28273758632311|    0.0|\n",
            "|4.5581668624047476|    0.0|\n",
            "| 6.699693139843087|    0.0|\n",
            "| 4.225654365968218|    0.0|\n",
            "| 4.300690599778485|    0.0|\n",
            "| 5.141957402756615|    0.0|\n",
            "| 6.548237078941821|    0.0|\n",
            "|  6.13904234666917|    0.0|\n",
            "| 4.805352485935827|   0.36|\n",
            "|15.254988235170469|   0.43|\n",
            "|13.249244149699354|   0.47|\n",
            "| 4.455974887431949|   0.55|\n",
            "|11.932166791419803|   0.61|\n",
            "| 4.061450665512309|   0.71|\n",
            "| 5.432812436666327|   0.77|\n",
            "|60.837597870833996|    0.9|\n",
            "|  5.83940262748241|   0.95|\n",
            "|15.467375245047478|   0.96|\n",
            "| 4.497971577968637|   1.07|\n",
            "|18.799080315462582|   1.12|\n",
            "| 6.794821482244352|   1.19|\n",
            "| 4.496479094204054|   1.36|\n",
            "| 5.531619711078113|   1.43|\n",
            "| 8.233599643222632|   1.46|\n",
            "| 23.52261345310391|   1.46|\n",
            "| 5.426390488243692|   1.56|\n",
            "|11.872316136580045|   1.61|\n",
            "|3.2942749145046393|   1.63|\n",
            "|  4.91109823603519|   1.64|\n",
            "| 7.420610949444315|   1.69|\n",
            "| 5.781335555615441|   1.75|\n",
            "|  7.43609760336583|    1.9|\n",
            "| 5.906838727645932|   1.94|\n",
            "|24.121558719876028|   1.95|\n",
            "|  7.42717651210449|   2.01|\n",
            "| 7.682055186933567|   2.14|\n",
            "| 5.238822061173676|   2.29|\n",
            "| 6.074249788983986|   2.51|\n",
            "|15.086648224987162|   2.53|\n",
            "| 6.559821171721405|   2.55|\n",
            "| 7.250526370033671|   2.57|\n",
            "| 9.288752763997092|   2.69|\n",
            "| 8.713841259571504|   2.74|\n",
            "| 7.674924709054542|   3.07|\n",
            "| 5.431244054556016|    3.5|\n",
            "| 8.007534028128706|   4.53|\n",
            "| 6.966022365418228|   4.61|\n",
            "| 4.701411963282778|   4.69|\n",
            "|5.5738755485050335|   4.88|\n",
            "| 7.080155714722804|   5.23|\n",
            "|12.980320081305866|   5.33|\n",
            "| 9.603867018155421|   5.44|\n",
            "| 6.388518185952658|   6.38|\n",
            "| 8.715833791614397|   6.83|\n",
            "| 8.203781687210016|   6.96|\n",
            "| 20.23187151333584|   7.04|\n",
            "| 9.230586467944228|   7.19|\n",
            "|12.714789794019476|    7.3|\n",
            "| 4.703646724451403|    7.4|\n",
            "| 5.396259913175237|   8.24|\n",
            "| 8.565162066698646|   8.31|\n",
            "| 4.607015343488671|   8.68|\n",
            "| 6.308169887456086|   8.71|\n",
            "|15.428819905865902|   9.41|\n",
            "| 6.308169887456086|  10.01|\n",
            "| 6.137381469420098|  10.02|\n",
            "| 6.966022365418228|  10.93|\n",
            "|17.140332946881152|  11.06|\n",
            "| 6.755395141690586|  11.24|\n",
            "| 14.95801983307216|  11.32|\n",
            "|13.627035789442814|  11.53|\n",
            "| 5.681760735278586|   12.1|\n",
            "| 8.481452507343118|  13.05|\n",
            "| 7.759185971321858|   13.7|\n",
            "| 4.532546469371997|  13.99|\n",
            "| 6.850086130878784|  14.57|\n",
            "| 6.834385667528602|  15.45|\n",
            "| 8.725817012428521|   17.2|\n",
            "| 7.955256109567037|  19.23|\n",
            "| 19.71829676593561|  23.41|\n",
            "| 5.863349702626879|  24.23|\n",
            "|10.882675717420302|   26.0|\n",
            "| 8.457330074553074|  26.13|\n",
            "| 7.194532594079443|  27.35|\n",
            "|  5.10741857308586|  28.66|\n",
            "|  5.10741857308586|  28.66|\n",
            "| 6.714691109588057|  29.48|\n",
            "| 8.285054106503214|  30.32|\n",
            "|17.784236751409956|  31.72|\n",
            "|16.304731586111657|  31.86|\n",
            "| 23.92516224922801|  32.07|\n",
            "| 6.052625888724064|  35.88|\n",
            "| 6.290028457830775|  36.85|\n",
            "| 14.61151649425528|  37.02|\n",
            "| 6.142874796010283|  37.71|\n",
            "| 9.582119529813943|  48.55|\n",
            "|11.628665901319037|  49.37|\n",
            "|17.539784189413968|   58.3|\n",
            "| 37.67233750819089|   64.1|\n",
            "| 18.27797526262487|   71.3|\n",
            "|37.147802380688006|  88.49|\n",
            "|45.261797368421064|  95.18|\n",
            "|  8.64309270256248| 103.39|\n",
            "| 34.11793732509481| 105.66|\n",
            "|107.88734901518235| 154.88|\n",
            "| 37.55557028760181| 196.48|\n",
            "| 96.95456108671054| 200.94|\n",
            "| 50.79525769514696| 212.88|\n",
            "| 783.2501823106153|1090.84|\n",
            "| 6.417490589349842|    0.0|\n",
            "| 5.528354309748262|    0.0|\n",
            "| 5.160598955184327|    0.0|\n",
            "|5.5765286433168395|  10.13|\n",
            "| 5.722007874701826|    0.0|\n",
            "|5.2584894736815295|   2.87|\n",
            "|10.345818578561715|   0.76|\n",
            "|6.3478780374831345|   0.09|\n",
            "|3.6423638170654895|   0.75|\n",
            "|11.585790216494877|    0.0|\n",
            "| 5.143960918651846|   2.47|\n",
            "| 53.26679228862688|   0.68|\n",
            "| 5.183350154235042|   0.24|\n",
            "| 4.556816034182029|   0.21|\n",
            "| 5.069156356115016|   1.52|\n",
            "| 9.010080109353648|  10.34|\n",
            "|  7.43481280345839|    0.0|\n",
            "| 5.203631209096472|   8.02|\n",
            "| 4.265990984508896|   0.68|\n",
            "| 4.588657684567904|    0.0|\n",
            "| 4.645041811802811|   1.38|\n",
            "| 6.485071968286375|   8.85|\n",
            "|  4.62911420701551|    3.3|\n",
            "|4.1036448621875135|   4.25|\n",
            "| 9.793715756316196|   1.56|\n",
            "| 5.068508943052207|   6.54|\n",
            "|7.1059888438986745|   0.79|\n",
            "| 7.873117539026024|   0.17|\n",
            "| 5.009326717677451|    0.0|\n",
            "|  4.47857619620071|    0.0|\n",
            "| 4.328498960312237|    4.4|\n",
            "|3.8081468520193082|   0.52|\n",
            "| 9.463064128670773|   9.27|\n",
            "| 4.488126869119801|   3.09|\n",
            "| 8.395484275818216|   8.98|\n",
            "|21.440612515760726|  11.19|\n",
            "| 7.061723234289403|   5.38|\n",
            "| 9.839170577348735|  17.85|\n",
            "| 9.839170577348735|  10.73|\n",
            "| 9.839170577348735|  22.03|\n",
            "| 9.839170577348735|   9.77|\n",
            "| 7.061723234289403|   9.27|\n",
            "|12.983590320500497|  24.77|\n",
            "| 6.652468313911508|    0.0|\n",
            "|6.5786248997193155|    1.1|\n",
            "| 7.802894036010303|  24.24|\n",
            "|19.850550258556886|    0.0|\n",
            "| 5.723628190679392|    0.0|\n",
            "|3.8548762612314134|    0.0|\n",
            "| 3.928182175386066|    0.0|\n",
            "| 3.928182175386066|    0.0|\n",
            "|3.4856255451935083|    0.0|\n",
            "| 5.930999681259355|    8.0|\n",
            "|4.7767796823541255|   2.64|\n",
            "|26.650843691590428|  86.45|\n",
            "| 7.374215874026298|   6.57|\n",
            "|18.027053046054547|    0.0|\n",
            "| 4.806115309830334|    0.9|\n",
            "| 8.524466694664836|    0.0|\n",
            "|35.492634025872356|    0.0|\n",
            "| 7.294758931924397|    0.0|\n",
            "+------------------+-------+\n",
            "only showing top 300 rows\n",
            "\n"
          ],
          "name": "stdout"
        }
      ]
    },
    {
      "cell_type": "markdown",
      "metadata": {
        "id": "8hDiWFGyA84y"
      },
      "source": [
        "Now let's go ahead and take a look at the feature importances of our random forest model. In order to do this, we need to unroll our pipeline to access the random forest model. Let's start by first checking out the `.bestModel` attribute of our `cross_validated_model`. "
      ]
    },
    {
      "cell_type": "code",
      "metadata": {
        "id": "AGZGK06oA84y",
        "outputId": "96f5f8b7-3754-4b63-fe20-5ff3323c158e",
        "colab": {
          "base_uri": "https://localhost:8080/",
          "height": 34
        }
      },
      "source": [
        "type(cross_validated_model.bestModel)"
      ],
      "execution_count": 93,
      "outputs": [
        {
          "output_type": "execute_result",
          "data": {
            "text/plain": [
              "pyspark.ml.pipeline.PipelineModel"
            ]
          },
          "metadata": {
            "tags": []
          },
          "execution_count": 93
        }
      ]
    },
    {
      "cell_type": "markdown",
      "metadata": {
        "id": "leYwL2KMA841"
      },
      "source": [
        "`ml` is treating the entire pipeline as the best performing model, so we need to go deeper into the pipeline to access the random forest model within it. Previously, we put the random forest model as the final \"stage\" in the stages variable list. Let's look at the `.stages` attribute of the `.bestModel`."
      ]
    },
    {
      "cell_type": "code",
      "metadata": {
        "id": "wv6U4So6A841",
        "outputId": "4d15162e-3560-4b01-bda3-2832ee9f3679",
        "colab": {
          "base_uri": "https://localhost:8080/",
          "height": 85
        }
      },
      "source": [
        "cross_validated_model.bestModel.stages"
      ],
      "execution_count": 94,
      "outputs": [
        {
          "output_type": "execute_result",
          "data": {
            "text/plain": [
              "[StringIndexer_d3b164e1bf81,\n",
              " OneHotEncoderEstimator_3cf19c5c9c41,\n",
              " VectorAssembler_0e4f2474fc9a,\n",
              " RandomForestRegressionModel (uid=RandomForestRegressor_b9cd5d563a7d) with 20 trees]"
            ]
          },
          "metadata": {
            "tags": []
          },
          "execution_count": 94
        }
      ]
    },
    {
      "cell_type": "markdown",
      "metadata": {
        "id": "lTEllBFbA844"
      },
      "source": [
        "Perfect! There's the RandomForestRegressionModel, represented by the last item in the stages list. Now, we should be able to access all the attributes of the random forest regressor."
      ]
    },
    {
      "cell_type": "code",
      "metadata": {
        "id": "a-qjPCPIA845"
      },
      "source": [
        "optimal_rf_model = cross_validated_model.bestModel.stages[3]"
      ],
      "execution_count": 95,
      "outputs": []
    },
    {
      "cell_type": "code",
      "metadata": {
        "id": "rNa_HmrcA848",
        "outputId": "8c4f71dd-21ea-47f8-f4d8-ba3e532185b8",
        "colab": {
          "base_uri": "https://localhost:8080/",
          "height": 54
        }
      },
      "source": [
        "optimal_rf_model.featureImportances"
      ],
      "execution_count": 96,
      "outputs": [
        {
          "output_type": "execute_result",
          "data": {
            "text/plain": [
              "SparseVector(22, {0: 0.1584, 1: 0.0836, 2: 0.1006, 3: 0.086, 4: 0.1809, 5: 0.05, 6: 0.0987, 7: 0.1016, 8: 0.1133, 9: 0.0, 10: 0.0019, 11: 0.0218, 12: 0.0, 13: 0.0019, 14: 0.0, 15: 0.0002, 16: 0.0, 17: 0.0009, 18: 0.0001, 20: 0.0001})"
            ]
          },
          "metadata": {
            "tags": []
          },
          "execution_count": 96
        }
      ]
    },
    {
      "cell_type": "code",
      "metadata": {
        "id": "LJHYe_djA84-",
        "outputId": "ac480ad0-c60a-438a-e16a-e1cb14fb941f",
        "colab": {
          "base_uri": "https://localhost:8080/",
          "height": 34
        }
      },
      "source": [
        "optimal_rf_model.getNumTrees"
      ],
      "execution_count": 97,
      "outputs": [
        {
          "output_type": "execute_result",
          "data": {
            "text/plain": [
              "20"
            ]
          },
          "metadata": {
            "tags": []
          },
          "execution_count": 97
        }
      ]
    },
    {
      "cell_type": "markdown",
      "metadata": {
        "id": "-BiDCPv2A85B"
      },
      "source": [
        "## Summary\n",
        "\n",
        "In this lesson, you learned about PySpark's DataFrames, machine learning models, and pipelines. With the use of a pipeline, you can train a huge number of models simultaneously, saving you a substantial amount of time and effort. Up next, you will have a chance to build a PySpark machine learning pipeline of your own with a classification problem!"
      ]
    },
    {
      "cell_type": "code",
      "metadata": {
        "id": "v75pAmXKBGZk"
      },
      "source": [
        ""
      ],
      "execution_count": null,
      "outputs": []
    },
    {
      "cell_type": "code",
      "metadata": {
        "id": "vcPSYrNmBInG"
      },
      "source": [
        ""
      ],
      "execution_count": null,
      "outputs": []
    }
  ]
}